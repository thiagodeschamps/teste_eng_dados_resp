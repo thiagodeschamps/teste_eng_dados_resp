{
 "cells": [
  {
   "cell_type": "code",
   "execution_count": 1,
   "metadata": {},
   "outputs": [],
   "source": [
    "import findspark\n",
    "findspark.init()"
   ]
  },
  {
   "cell_type": "code",
   "execution_count": 2,
   "metadata": {},
   "outputs": [
    {
     "name": "stdout",
     "output_type": "stream",
     "text": [
      "22/12/09 09:43:14 WARN Utils: Your hostname, BRSPOBITANL1859 resolves to a loopback address: 127.0.1.1; using 192.168.0.60 instead (on interface wlp0s20f3)\n",
      "22/12/09 09:43:14 WARN Utils: Set SPARK_LOCAL_IP if you need to bind to another address\n"
     ]
    },
    {
     "name": "stderr",
     "output_type": "stream",
     "text": [
      "Setting default log level to \"WARN\".\n",
      "To adjust logging level use sc.setLogLevel(newLevel). For SparkR, use setLogLevel(newLevel).\n"
     ]
    },
    {
     "name": "stdout",
     "output_type": "stream",
     "text": [
      "22/12/09 09:43:14 WARN NativeCodeLoader: Unable to load native-hadoop library for your platform... using builtin-java classes where applicable\n",
      "22/12/09 09:43:15 WARN Utils: Service 'SparkUI' could not bind on port 4040. Attempting port 4041.\n"
     ]
    }
   ],
   "source": [
    "from pyspark.sql import SparkSession\n",
    "\n",
    "spark = SparkSession.builder\\\n",
    "                    .appName('resp-entregavel_3')\\\n",
    "                    .getOrCreate()"
   ]
  },
  {
   "cell_type": "markdown",
   "metadata": {},
   "source": [
    "Para possibilitar a leitura de um 'nested json', dessa vez em uma das opções de leitura do arquivo, vamos utilizar o \"multiline\" e \"true\"."
   ]
  },
  {
   "cell_type": "code",
   "execution_count": 3,
   "metadata": {},
   "outputs": [
    {
     "name": "stdout",
     "output_type": "stream",
     "text": [
      "+--------------------+--------+-------------------+--------------------+-----+---------+\n",
      "|          CreateDate|Discount|       EmissionDate|            ItemList|NFeID|NFeNumber|\n",
      "+--------------------+--------+-------------------+--------------------+-----+---------+\n",
      "|2021-05-24T20:21:...|     0.0|2021-05-24T00:00:00|[{Rice, 2, 35.55}...|    1|      501|\n",
      "|2021-05-24T20:21:...|     0.0|2021-05-24T00:00:00|[{Tomate, 10, 12....|    2|      502|\n",
      "|2021-05-24T20:21:...|     0.0|2021-05-24T00:00:00|[{Beer, 6, 9.0}, ...|    3|      503|\n",
      "+--------------------+--------+-------------------+--------------------+-----+---------+\n",
      "\n"
     ]
    }
   ],
   "source": [
    "df=spark.read.option(\"multiline\",\"true\").json(\"data.json\")\n",
    "df.show()\n"
   ]
  },
  {
   "cell_type": "markdown",
   "metadata": {},
   "source": [
    "Utilizando a função explode do pyspark.sql para 'explodir' o array dentro da coluna ItemList em linhas"
   ]
  },
  {
   "cell_type": "code",
   "execution_count": 4,
   "metadata": {},
   "outputs": [
    {
     "name": "stdout",
     "output_type": "stream",
     "text": [
      "+------------+--------+-----+--------------------+--------+-------------------+-----+---------+\n",
      "| ProductName|Quantity|Value|          CreateDate|Discount|       EmissionDate|NFeID|NFeNumber|\n",
      "+------------+--------+-----+--------------------+--------+-------------------+-----+---------+\n",
      "|        Rice|       2|35.55|2021-05-24T20:21:...|     0.0|2021-05-24T00:00:00|    1|      501|\n",
      "|       Flour|       5|11.55|2021-05-24T20:21:...|     0.0|2021-05-24T00:00:00|    1|      501|\n",
      "|        Bean|       7|27.15|2021-05-24T20:21:...|     0.0|2021-05-24T00:00:00|    1|      501|\n",
      "|      Tomate|      10|12.25|2021-05-24T20:21:...|     0.0|2021-05-24T00:00:00|    2|      502|\n",
      "|       Pasta|       5| 7.55|2021-05-24T20:21:...|     0.0|2021-05-24T00:00:00|    2|      502|\n",
      "|        Beer|       6|  9.0|2021-05-24T20:21:...|     0.0|2021-05-24T00:00:00|    3|      503|\n",
      "|French fries|       2|10.99|2021-05-24T20:21:...|     0.0|2021-05-24T00:00:00|    3|      503|\n",
      "|   Ice cream|       1|27.15|2021-05-24T20:21:...|     0.0|2021-05-24T00:00:00|    3|      503|\n",
      "+------------+--------+-----+--------------------+--------+-------------------+-----+---------+\n",
      "\n"
     ]
    }
   ],
   "source": [
    "from pyspark.sql import functions as f\n",
    "\n",
    "df = df.withColumn('ItemList', f.explode('ItemList')).select('ItemList.*', '*').drop('ItemList')\n",
    "df.show()\n"
   ]
  },
  {
   "cell_type": "markdown",
   "metadata": {},
   "source": [
    "Pronto! Agora já temos a primeira parte da atividade 'Expandir a coluna num mesmo dataframe' feita. No próximo passo precisamos normalizar os itens dessa coluna de dicionário e dividí-los em dois dataframes separados, seguindo o modelo relacional."
   ]
  },
  {
   "cell_type": "markdown",
   "metadata": {},
   "source": [
    "Para o próximo passo vamos criar 2 tabelas (dataframes), um chamado para o itemlist e outro para a NFe."
   ]
  },
  {
   "cell_type": "code",
   "execution_count": 5,
   "metadata": {},
   "outputs": [
    {
     "name": "stdout",
     "output_type": "stream",
     "text": [
      "+------------+--------+-----+-----+\n",
      "| ProductName|Quantity|Value|NFeID|\n",
      "+------------+--------+-----+-----+\n",
      "|        Rice|       2|35.55|    1|\n",
      "|       Flour|       5|11.55|    1|\n",
      "|        Bean|       7|27.15|    1|\n",
      "|      Tomate|      10|12.25|    2|\n",
      "|       Pasta|       5| 7.55|    2|\n",
      "|        Beer|       6|  9.0|    3|\n",
      "|French fries|       2|10.99|    3|\n",
      "|   Ice cream|       1|27.15|    3|\n",
      "+------------+--------+-----+-----+\n",
      "\n"
     ]
    }
   ],
   "source": [
    "# Selecionando as colunas que compõem a tabela itemlist e adicionando NFeID como chave estrangeira (FK)\n",
    "\n",
    "df_itemlist = df.select('ProductName', 'Quantity', 'Value', 'NFeID')\n",
    "df_itemlist.show()"
   ]
  },
  {
   "cell_type": "code",
   "execution_count": 6,
   "metadata": {},
   "outputs": [
    {
     "name": "stdout",
     "output_type": "stream",
     "text": [
      "+--------------------+--------+-------------------+-----+---------+\n",
      "|          CreateDate|Discount|       EmissionDate|NFeID|NFeNumber|\n",
      "+--------------------+--------+-------------------+-----+---------+\n",
      "|2021-05-24T20:21:...|     0.0|2021-05-24T00:00:00|    1|      501|\n",
      "|2021-05-24T20:21:...|     0.0|2021-05-24T00:00:00|    1|      501|\n",
      "|2021-05-24T20:21:...|     0.0|2021-05-24T00:00:00|    1|      501|\n",
      "|2021-05-24T20:21:...|     0.0|2021-05-24T00:00:00|    2|      502|\n",
      "|2021-05-24T20:21:...|     0.0|2021-05-24T00:00:00|    2|      502|\n",
      "|2021-05-24T20:21:...|     0.0|2021-05-24T00:00:00|    3|      503|\n",
      "|2021-05-24T20:21:...|     0.0|2021-05-24T00:00:00|    3|      503|\n",
      "|2021-05-24T20:21:...|     0.0|2021-05-24T00:00:00|    3|      503|\n",
      "+--------------------+--------+-------------------+-----+---------+\n",
      "\n"
     ]
    }
   ],
   "source": [
    "# Dropando as colunas correspondentes a itemlist\n",
    "\n",
    "df_nfe = df.drop('ProductName', 'Quantity', 'Value')\n",
    "df_nfe.show()"
   ]
  },
  {
   "cell_type": "markdown",
   "metadata": {},
   "source": [
    "Como podemos ver no dataframe gerado, as linhas estão repetidas. Para resolver isso vamos usar a função distinct do pyspark."
   ]
  },
  {
   "cell_type": "code",
   "execution_count": 7,
   "metadata": {},
   "outputs": [
    {
     "name": "stdout",
     "output_type": "stream",
     "text": [
      "+--------------------+--------+-------------------+-----+---------+\n",
      "|          CreateDate|Discount|       EmissionDate|NFeID|NFeNumber|\n",
      "+--------------------+--------+-------------------+-----+---------+\n",
      "|2021-05-24T20:21:...|     0.0|2021-05-24T00:00:00|    2|      502|\n",
      "|2021-05-24T20:21:...|     0.0|2021-05-24T00:00:00|    1|      501|\n",
      "|2021-05-24T20:21:...|     0.0|2021-05-24T00:00:00|    3|      503|\n",
      "+--------------------+--------+-------------------+-----+---------+\n",
      "\n"
     ]
    }
   ],
   "source": [
    "df_nfe.distinct().show()"
   ]
  },
  {
   "cell_type": "markdown",
   "metadata": {},
   "source": [
    "Pronto, normalizamos a tabela e dividimos em dois dataframes separados, seguindo o modelo relacional. Vamos dar uma olhada nelas de novo."
   ]
  },
  {
   "cell_type": "markdown",
   "metadata": {},
   "source": [
    "## NFe"
   ]
  },
  {
   "cell_type": "code",
   "execution_count": 8,
   "metadata": {},
   "outputs": [
    {
     "name": "stdout",
     "output_type": "stream",
     "text": [
      "+--------------------+--------+-------------------+-----+---------+\n",
      "|          CreateDate|Discount|       EmissionDate|NFeID|NFeNumber|\n",
      "+--------------------+--------+-------------------+-----+---------+\n",
      "|2021-05-24T20:21:...|     0.0|2021-05-24T00:00:00|    1|      501|\n",
      "|2021-05-24T20:21:...|     0.0|2021-05-24T00:00:00|    1|      501|\n",
      "|2021-05-24T20:21:...|     0.0|2021-05-24T00:00:00|    1|      501|\n",
      "|2021-05-24T20:21:...|     0.0|2021-05-24T00:00:00|    2|      502|\n",
      "|2021-05-24T20:21:...|     0.0|2021-05-24T00:00:00|    2|      502|\n",
      "|2021-05-24T20:21:...|     0.0|2021-05-24T00:00:00|    3|      503|\n",
      "|2021-05-24T20:21:...|     0.0|2021-05-24T00:00:00|    3|      503|\n",
      "|2021-05-24T20:21:...|     0.0|2021-05-24T00:00:00|    3|      503|\n",
      "+--------------------+--------+-------------------+-----+---------+\n",
      "\n"
     ]
    }
   ],
   "source": [
    "df_nfe.show()"
   ]
  },
  {
   "cell_type": "markdown",
   "metadata": {},
   "source": [
    "## ItemList"
   ]
  },
  {
   "cell_type": "code",
   "execution_count": 9,
   "metadata": {},
   "outputs": [
    {
     "name": "stdout",
     "output_type": "stream",
     "text": [
      "+------------+--------+-----+-----+\n",
      "| ProductName|Quantity|Value|NFeID|\n",
      "+------------+--------+-----+-----+\n",
      "|        Rice|       2|35.55|    1|\n",
      "|       Flour|       5|11.55|    1|\n",
      "|        Bean|       7|27.15|    1|\n",
      "|      Tomate|      10|12.25|    2|\n",
      "|       Pasta|       5| 7.55|    2|\n",
      "|        Beer|       6|  9.0|    3|\n",
      "|French fries|       2|10.99|    3|\n",
      "|   Ice cream|       1|27.15|    3|\n",
      "+------------+--------+-----+-----+\n",
      "\n"
     ]
    }
   ],
   "source": [
    "df_itemlist.show()"
   ]
  },
  {
   "cell_type": "markdown",
   "metadata": {},
   "source": [
    "# Diagrama ER\n",
    "\n",
    "![Diagrama](src/diagrama.png)"
   ]
  }
 ],
 "metadata": {
  "kernelspec": {
   "display_name": "Python 3.8.10 64-bit",
   "language": "python",
   "name": "python3"
  },
  "language_info": {
   "codemirror_mode": {
    "name": "ipython",
    "version": 3
   },
   "file_extension": ".py",
   "mimetype": "text/x-python",
   "name": "python",
   "nbconvert_exporter": "python",
   "pygments_lexer": "ipython3",
   "version": "3.8.10"
  },
  "orig_nbformat": 4,
  "vscode": {
   "interpreter": {
    "hash": "e7370f93d1d0cde622a1f8e1c04877d8463912d04d973331ad4851f04de6915a"
   }
  }
 },
 "nbformat": 4,
 "nbformat_minor": 2
}
