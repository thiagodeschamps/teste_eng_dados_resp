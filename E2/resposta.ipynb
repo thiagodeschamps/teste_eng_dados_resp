{
 "cells": [
  {
   "cell_type": "code",
   "execution_count": 71,
   "metadata": {},
   "outputs": [],
   "source": [
    "import findspark\n",
    "findspark.init('/home/thiagodeschamps/spark-3.3.1-bin-hadoop3')"
   ]
  },
  {
   "cell_type": "code",
   "execution_count": 72,
   "metadata": {},
   "outputs": [],
   "source": [
    "from pyspark.sql import SparkSession\n",
    "\n",
    "spark = SparkSession.builder\\\n",
    "                    .appName('resp-entregavel_2')\\\n",
    "                    .getOrCreate()"
   ]
  },
  {
   "cell_type": "code",
   "execution_count": 73,
   "metadata": {},
   "outputs": [],
   "source": [
    "transacoes = [{'transacao_id':1, 'total_bruto':3000, 'desconto_percentual':6.99},\n",
    "              {'transacao_id':2, 'total_bruto':57989, 'desconto_percentual':1.45},\n",
    "              {'transacao_id':4, 'total_bruto':1, 'desconto_percentual':None},\n",
    "              {'transacao_id':5, 'total_bruto':34, 'desconto_percentual':0.0}]"
   ]
  },
  {
   "cell_type": "code",
   "execution_count": 74,
   "metadata": {},
   "outputs": [],
   "source": [
    "df = spark.createDataFrame(transacoes).na.fill(1) "
   ]
  },
  {
   "cell_type": "code",
   "execution_count": 75,
   "metadata": {},
   "outputs": [
    {
     "name": "stdout",
     "output_type": "stream",
     "text": [
      "+-------------------+-----------+------------+\n",
      "|desconto_percentual|total_bruto|transacao_id|\n",
      "+-------------------+-----------+------------+\n",
      "|               6.99|       3000|           1|\n",
      "|               1.45|      57989|           2|\n",
      "|                1.0|          1|           4|\n",
      "|                0.0|         34|           5|\n",
      "+-------------------+-----------+------------+\n",
      "\n"
     ]
    }
   ],
   "source": [
    "df.show()"
   ]
  },
  {
   "cell_type": "code",
   "execution_count": 76,
   "metadata": {},
   "outputs": [
    {
     "name": "stdout",
     "output_type": "stream",
     "text": [
      "root\n",
      " |-- desconto_percentual: double (nullable = false)\n",
      " |-- total_bruto: long (nullable = true)\n",
      " |-- transacao_id: long (nullable = true)\n",
      "\n"
     ]
    }
   ],
   "source": [
    "df.printSchema()"
   ]
  },
  {
   "cell_type": "code",
   "execution_count": 78,
   "metadata": {},
   "outputs": [
    {
     "name": "stdout",
     "output_type": "stream",
     "text": [
      "+-------------------+-----------+------------+----------+\n",
      "|desconto_percentual|total_bruto|transacao_id|    Result|\n",
      "+-------------------+-----------+------------+----------+\n",
      "|               6.99|       3000|           1| 2999.9401|\n",
      "|               1.45|      57989|           2|57988.9955|\n",
      "|                1.0|          1|           4|       1.0|\n",
      "|                0.0|         34|           5|     34.01|\n",
      "+-------------------+-----------+------------+----------+\n",
      "\n"
     ]
    }
   ],
   "source": [
    "df.withColumn('Result', ( df['total_bruto'] - (df['desconto_percentual'] - 1)/100)).show()\n",
    "\n"
   ]
  }
 ],
 "metadata": {
  "kernelspec": {
   "display_name": "Python 3.8.10 64-bit",
   "language": "python",
   "name": "python3"
  },
  "language_info": {
   "codemirror_mode": {
    "name": "ipython",
    "version": 3
   },
   "file_extension": ".py",
   "mimetype": "text/x-python",
   "name": "python",
   "nbconvert_exporter": "python",
   "pygments_lexer": "ipython3",
   "version": "3.8.10"
  },
  "orig_nbformat": 4,
  "vscode": {
   "interpreter": {
    "hash": "e7370f93d1d0cde622a1f8e1c04877d8463912d04d973331ad4851f04de6915a"
   }
  }
 },
 "nbformat": 4,
 "nbformat_minor": 2
}
